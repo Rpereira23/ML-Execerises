{
 "cells": [
  {
   "cell_type": "markdown",
   "metadata": {},
   "source": [
    "Problem 1, a: Let $ f(x) = x (\\frac{1}{2} x^T A x + b^T x) $, where A is a symmetric matrix and $ b ∈ R $\n",
    "n is a vector. What is $ \\nabla_x f(x) $"
   ]
  },
  {
   "cell_type": "markdown",
   "metadata": {},
   "source": [
    "Expand   $ ( \\frac{1}{2} x^T A x )$ :"
   ]
  },
  {
   "cell_type": "markdown",
   "metadata": {},
   "source": [
    "$$ x^TAx = x^T \\begin{bmatrix} R_1 x \\\\ R_2 x \\\\ \\cdots \\\\ R_n x\\end{bmatrix} $$\n",
    "\n",
    "$$ = x^T\n",
    "\\begin{bmatrix}\n",
    " \\sum_{j=1}^{n} A_{1j} x_j \\\\ \n",
    " \\sum_{j=1}^{n} A_{2j} x_j \\\\\n",
    " \\cdots \\\\\n",
    " \\sum_{j=1}^{n} A_{nj} x_j\n",
    "\\end{bmatrix} \\\\ $$\n",
    "$$ = \\frac{1}{2} (x_1\\sum_{j=1}^{n} A_{1j} x_j + x_2\\sum_{j=1}^{n} A_{2j} x_j + \\cdots + x_n \\sum_{j=1}^{n} A_{nj} x_j)$$ \n",
    "$$ = \\frac{1}{2} ( \\sum_{i=1}^n \\sum_{j=1}^{n} x_i A_{ij} x_j )$$\n"
   ]
  },
  {
   "cell_type": "markdown",
   "metadata": {},
   "source": [
    "Find $ \\nabla_x ( \\frac{1}{2} \\sum_{i=1}^n \\sum_{j=1}^{n} x_i A_{ij} x_j $ )"
   ]
  },
  {
   "cell_type": "markdown",
   "metadata": {},
   "source": [
    "$$ \\frac{\\partial}{\\partial x_k} ( \\frac{1}{2} \\sum_{i=1}^n \\sum_{j=1}^{n} x_i A_{ij} x_j ) =\n",
    "\\frac{\\partial}{\\partial x_k} ( \\frac{1}{2} \\sum_{i=1, i \\neq k}^{n} x_i A_{ik} x_k ) + \n",
    "\\frac{\\partial}{\\partial x_k} ( \\frac{1}{2} \\sum_{j=1, j \\neq k}^{n} x_k A_{kj} x_j ) + \n",
    "\\frac{\\partial}{\\partial x_k} ( \\frac{1}{2} x_k A_{kk} x_k ) $$\n",
    "$$  = ( \\frac{1}{2} \\sum_{i=1, i \\neq k}^{n} x_i A_{ik} ) + ( \\frac{1}{2} \\sum_{j=1, j \\neq k}^{n} A_{kj} x_j ) + A_{kk} x_k  $$\n",
    "$$  = (\\sum_{i=1, i \\neq k}^{n} x_i A_{ki} )  $$"
   ]
  },
  {
   "cell_type": "markdown",
   "metadata": {},
   "source": [
    "Since $ A_{ij} = A_{ji} $ and the definition of partial derivative, we can conclude that $ \\nabla_x ( \\frac{1}{2} x^T A x ) = Ax $ for a symmetric Matrix $ A $. "
   ]
  },
  {
   "cell_type": "markdown",
   "metadata": {},
   "source": [
    "Find $ \\nabla_x ( b^T x )$ :"
   ]
  },
  {
   "cell_type": "markdown",
   "metadata": {},
   "source": [
    "$$ \\frac{\\partial}{\\partial x_k} ( b^T x ) = \\frac{\\partial}{\\partial x_k} (b_k x_k) = b_k $$"
   ]
  },
  {
   "cell_type": "markdown",
   "metadata": {},
   "source": [
    "Find $ \\nabla f(x) = g(h(x)): $"
   ]
  },
  {
   "cell_type": "markdown",
   "metadata": {},
   "source": [
    "\\begin{align*}\n",
    "\\nabla_x f(x) = \\nabla_x g(h(x)) = \\begin{bmatrix}\n",
    " \\frac{d}{d h} g(h) \\frac{\\partial}{\\partial x_1} h(x) \\\\ \n",
    " \\cdots \\\\\n",
    " \\frac{d}{d h} g(h) \\frac{\\partial}{\\partial x_n} h(x) \\\\ \n",
    "\\end{bmatrix}\n",
    "\\end{align*}"
   ]
  },
  {
   "cell_type": "code",
   "execution_count": null,
   "metadata": {},
   "outputs": [],
   "source": []
  }
 ],
 "metadata": {
  "kernelspec": {
   "display_name": "Python 3",
   "language": "python",
   "name": "python3"
  },
  "language_info": {
   "codemirror_mode": {
    "name": "ipython",
    "version": 3
   },
   "file_extension": ".py",
   "mimetype": "text/x-python",
   "name": "python",
   "nbconvert_exporter": "python",
   "pygments_lexer": "ipython3",
   "version": "3.7.2"
  }
 },
 "nbformat": 4,
 "nbformat_minor": 2
}
