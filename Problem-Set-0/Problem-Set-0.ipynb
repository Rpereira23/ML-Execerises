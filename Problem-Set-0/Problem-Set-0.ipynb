{
 "cells": [
  {
   "cell_type": "markdown",
   "metadata": {},
   "source": [
    "# Gradients and Hessians"
   ]
  },
  {
   "cell_type": "markdown",
   "metadata": {},
   "source": [
    "Let $ f(x) = x (\\frac{1}{2} x^T A x + b^T x) $, where A is a symmetric matrix and $ b ∈ R $\n",
    "n is a vector. What is $ \\nabla_x f(x) $"
   ]
  },
  {
   "cell_type": "markdown",
   "metadata": {},
   "source": [
    "Expand   $ ( \\frac{1}{2} x^T A x )$ :"
   ]
  },
  {
   "cell_type": "markdown",
   "metadata": {},
   "source": [
    "$$ x^TAx = x^T \\begin{bmatrix} R_1 x \\\\ R_2 x \\\\ \\cdots \\\\ R_n x\\end{bmatrix} $$\n",
    "\n",
    "$$ = x^T\n",
    "\\begin{bmatrix}\n",
    " \\sum_{j=1}^{n} A_{1j} x_j \\\\ \n",
    " \\sum_{j=1}^{n} A_{2j} x_j \\\\\n",
    " \\cdots \\\\\n",
    " \\sum_{j=1}^{n} A_{nj} x_j\n",
    "\\end{bmatrix} \\\\ $$\n",
    "$$ = \\frac{1}{2} (x_1\\sum_{j=1}^{n} A_{1j} x_j + x_2\\sum_{j=1}^{n} A_{2j} x_j + \\cdots + x_n \\sum_{j=1}^{n} A_{nj} x_j)$$ \n",
    "$$ = \\frac{1}{2} ( \\sum_{i=1}^n \\sum_{j=1}^{n} x_i A_{ij} x_j )$$\n"
   ]
  },
  {
   "cell_type": "markdown",
   "metadata": {},
   "source": [
    "Find $ \\nabla_x ( \\frac{1}{2} \\sum_{i=1}^n \\sum_{j=1}^{n} x_i A_{ij} x_j $ )"
   ]
  },
  {
   "cell_type": "markdown",
   "metadata": {},
   "source": [
    "$$ \\frac{\\partial}{\\partial x_k} ( \\frac{1}{2} \\sum_{i=1}^n \\sum_{j=1}^{n} x_i A_{ij} x_j ) =\n",
    "\\frac{\\partial}{\\partial x_k} ( \\frac{1}{2} \\sum_{i=1, i \\neq k}^{n} x_i A_{ik} x_k ) + \n",
    "\\frac{\\partial}{\\partial x_k} ( \\frac{1}{2} \\sum_{j=1, j \\neq k}^{n} x_k A_{kj} x_j ) + \n",
    "\\frac{\\partial}{\\partial x_k} ( \\frac{1}{2} x_k A_{kk} x_k ) $$\n",
    "$$  = ( \\frac{1}{2} \\sum_{i=1, i \\neq k}^{n} x_i A_{ik} ) + ( \\frac{1}{2} \\sum_{j=1, j \\neq k}^{n} A_{kj} x_j ) + A_{kk} x_k  $$\n",
    "$$  = (\\sum_{i=1, i \\neq k}^{n} x_i A_{ki} )  $$"
   ]
  },
  {
   "cell_type": "markdown",
   "metadata": {},
   "source": [
    "Since $ A_{ij} = A_{ji} $ and the definition of partial derivative, we can conclude that $ \\nabla_x ( \\frac{1}{2} x^T A x ) = Ax $ for a symmetric Matrix $ A $. "
   ]
  },
  {
   "cell_type": "markdown",
   "metadata": {},
   "source": [
    "Find $ \\nabla_x ( b^T x )$ :"
   ]
  },
  {
   "cell_type": "markdown",
   "metadata": {},
   "source": [
    "$$ \\frac{\\partial}{\\partial x_k} ( b^T x ) = \\frac{\\partial}{\\partial x_k} (b_k x_k) = b_k $$"
   ]
  },
  {
   "cell_type": "markdown",
   "metadata": {},
   "source": [
    "Find $ \\nabla f(x) = g(h(x)): $"
   ]
  },
  {
   "cell_type": "markdown",
   "metadata": {},
   "source": [
    "\\begin{align*}\n",
    "\\nabla_x f(x) = \\nabla_x g(h(x)) = \\begin{bmatrix}\n",
    " \\frac{d}{d h} g(h) \\frac{\\partial}{\\partial x_1} h(x) \\\\ \n",
    " \\cdots \\\\\n",
    " \\frac{d}{d h} g(h) \\frac{\\partial}{\\partial x_n} h(x) \\\\ \n",
    "\\end{bmatrix}\n",
    "\\end{align*}"
   ]
  },
  {
   "cell_type": "markdown",
   "metadata": {},
   "source": [
    "Let $ f(x) = g(h(x)) $, where $ g : R → R $ is differentiable and $ h : Rn → R $ is differentiable.\n",
    "What is $ ∇f(x) $?"
   ]
  },
  {
   "cell_type": "markdown",
   "metadata": {},
   "source": [
    "\\begin{align*} \\nabla f(x) = \\frac{\\partial}{\\partial x_k} g(h(x)) \\end{align*}"
   ]
  },
  {
   "cell_type": "markdown",
   "metadata": {},
   "source": [
    "Use Chain Rule: \n",
    "\n",
    "\\begin{align*} \\nabla f(x) = g'(h(x))\\frac{\\partial}{\\partial x_k}h(x) \\end{align*}\n",
    "\\begin{align*} \\nabla f(x) = g'(h(x))\\nabla f(x) \\end{align*}"
   ]
  },
  {
   "cell_type": "markdown",
   "metadata": {},
   "source": [
    "Let $ f(x)= \\frac{1}{2} x^T Ax + b^T x $, where A is symmetric and $ b ∈ R^n $ is a vector. Whatis $ ∇^2f(x)$ ? "
   ]
  },
  {
   "cell_type": "markdown",
   "metadata": {},
   "source": [
    "First, we know that $ \\nabla (\\frac{1}{2} x^T Ax + b^T x) = Ax + b$,\n",
    "\n",
    "therefore $ ∇^2f(x) = \\frac{\\partial}{\\partial x} Ax + b = A$"
   ]
  },
  {
   "cell_type": "markdown",
   "metadata": {},
   "source": [
    "Let $ f(x) = g(a^T x)$, where $ g : R → R $ is continuously differentiable and $ a ∈ R^n $ is a vector. What are $ ∇f(x) $ and $ ∇^2f(x) $?"
   ]
  },
  {
   "cell_type": "markdown",
   "metadata": {},
   "source": [
    "\\begin{align*} \n",
    "\\nabla f(x) = \\frac{\\partial}{\\partial x} g(a^T x) \\\\\n",
    "\\nabla f(x) = g'(a^T x) \\frac{\\partial}{\\partial x}(a^T x) \\\\\n",
    "\\nabla f(x) = g'(a^T x)a^T \\\\\n",
    "\\nabla^2 f(x) = \\frac{\\partial}{\\partial x} g'(a^T x)a^T \\\\\n",
    "\\nabla^2 f(x) = g''(a^T x)a^T * a^T \\\\\n",
    "\\nabla^2 f(x) = g''(a^T x)a^2 \\\\\n",
    "\\end{align*}"
   ]
  },
  {
   "cell_type": "markdown",
   "metadata": {},
   "source": [
    "# Positive Definite Matricies"
   ]
  },
  {
   "cell_type": "markdown",
   "metadata": {},
   "source": [
    "a. Let $ z ∈ R^n $ be an n-vector. Show that $ A = zz^T $ is positive semidefinite"
   ]
  },
  {
   "cell_type": "markdown",
   "metadata": {},
   "source": [
    "$ x^TAx = x^T(zz^T)x $, by the communitivity of dot products we can say $ (x^Tz)^2 > 0 $"
   ]
  },
  {
   "cell_type": "markdown",
   "metadata": {},
   "source": [
    "b. Let $ z ∈ R^n $ be a non-zero n-vector. Let $ A = zz^T $ . What is the null-space of A? What is the rank of A?"
   ]
  },
  {
   "cell_type": "markdown",
   "metadata": {},
   "source": [
    "The null space is defined to be the set of vectors v such that $ Av = 0 $, therefore:\n",
    "\n",
    "\\begin{align*}\n",
    "zz^Tv = 0 \\\\\n",
    "z^Tx = 0\n",
    "\\end{align*}"
   ]
  },
  {
   "cell_type": "markdown",
   "metadata": {},
   "source": [
    "c. $ Let A ∈ \\mathbb{R}^{nxn} $ be positive semidefinite and $ B ∈ R^ m×n $ be arbitrary, where $ m, n ∈ N $. Is $ BAB^T $ PSD? If so, prove it. If not, give a counterexample with explicit $ A, B $."
   ]
  },
  {
   "cell_type": "markdown",
   "metadata": {},
   "source": [
    "$ x^T(BAB^T)x = (x^T B)A(B^T x) = (B^T x)^T A (B^T x) = y^T A y $"
   ]
  },
  {
   "cell_type": "markdown",
   "metadata": {},
   "source": []
  },
  {
   "cell_type": "code",
   "execution_count": null,
   "metadata": {},
   "outputs": [],
   "source": []
  }
 ],
 "metadata": {
  "kernelspec": {
   "display_name": "Python 3",
   "language": "python",
   "name": "python3"
  },
  "language_info": {
   "codemirror_mode": {
    "name": "ipython",
    "version": 3
   },
   "file_extension": ".py",
   "mimetype": "text/x-python",
   "name": "python",
   "nbconvert_exporter": "python",
   "pygments_lexer": "ipython3",
   "version": "3.7.2"
  }
 },
 "nbformat": 4,
 "nbformat_minor": 2
}
