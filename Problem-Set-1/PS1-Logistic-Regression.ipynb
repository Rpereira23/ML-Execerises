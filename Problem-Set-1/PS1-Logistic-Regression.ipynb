{
 "cells": [
  {
   "cell_type": "markdown",
   "metadata": {},
   "source": [
    "## Logistic Regression"
   ]
  },
  {
   "cell_type": "markdown",
   "metadata": {},
   "source": [
    "Given the empirical loss (the risk) for logistuc regression: \n",
    "\n",
    "$ J(\\theta) = \\frac{1}{m} \\sum_{i=1}^{m} \\mathrm{log}\\big(1 + e ^{-y^{(i)} \\theta^T x^{(i)}}\\big) = - \\frac{1}{m} \\sum_{i=1}^{m} \\mathrm{log}(h_\\theta (y^{(i)}x^{(i)}))$"
   ]
  },
  {
   "cell_type": "markdown",
   "metadata": {},
   "source": [
    "where $ y(i) ∈ \\{−1,1\\}, h_θ(x) = g(θ^Tx) $ and $ g(z) = 1/(1+e^{−z}) $. Find the Hessian H of this function and show that it is positive semidefinite. "
   ]
  },
  {
   "cell_type": "markdown",
   "metadata": {},
   "source": [
    "First, note that:\n",
    "\n",
    "$\\frac{\\partial g(z)}{\\partial z} \\frac{1}{(1+e^{−z})} = \\frac{(e^{-z})}{(1+e^{-z})^2} = \\frac{(e^{-z})}{(1+e^{-z})} \\frac{1}{(1+e^{-z})} = \\frac{(e^{-z})}{(1+e^{-z})} g(z) = (\\frac{1}{(1+e^{-z})} - \\frac{(1+e^{-z})}{(1+e^{-z})}) g(z)\n",
    "=(g(z) - 1)g(z) $\n"
   ]
  },
  {
   "cell_type": "markdown",
   "metadata": {},
   "source": [
    "Therefore,\n",
    "\n",
    "$ \\frac{\\partial J(\\theta)}{\\partial \\theta_{i}} = - \\frac{1}{m} \\sum_{i=1}^{m} \\frac{1}{g(z)} \\frac{\\partial g(z)}{\\partial z}(y^{(i)}x^{(i)}) = - \\frac{1}{m} \\sum_{i=1}^{m} \\frac{1}{g(z)} (g(z) - 1)(g(z)) (y^{(i)}x^{(i)}) = - \\frac{1}{m} \\sum_{i=1}^{m} (g(z) - 1)(y^{(i)}x^{(i)}) $"
   ]
  },
  {
   "cell_type": "markdown",
   "metadata": {},
   "source": [
    "So, \n",
    "\n",
    "$ H_{ij} = - \\frac{\\partial J(\\theta)}{\\partial \\theta_{i} \\theta_{j}} \\frac{1}{m} \\sum_{k=1}^{m} (g(z) - 1)(y^{(i)}x^{(i)}) = - \\frac{1}{m} \\sum_{k=1}^{m} (g(z) - 1)g(z)(y^{(k)}x_i^{(k)})(y^{(k)}x_j^{(k)}) $ \n",
    "\n",
    "Since, $ y^{(i)} ∈ \\{−1,1\\} $, \n",
    "\n",
    "$ H_{ij} = -\\frac{1}{m} \\sum_{k=1}^{m} (g(z) - 1)g(z)x_i^{(k)}x_j^{(k)} $"
   ]
  },
  {
   "cell_type": "markdown",
   "metadata": {},
   "source": [
    "Lastly, \n",
    "\n",
    "\\begin{align*}\n",
    "z^{T} Hz = z^{T} (\\sum_{i=1}^m \\sum_{j=1}^m H_{ij}) z \\\\\n",
    "= z^T \\sum_{i=1}^m \\sum_{j=1}^m ( -\\frac{1}{m} \\sum_{k=1}^{m} (g(z) - 1)g(z)x_i^{(k)}x_j^{(k)} ) z \\\\\n",
    "= \\sum_{i=1}^m \\sum_{j=1}^m (z_{i}x_{i}x_{j}z_{j}) (-\\frac{1}{m} \\sum_{k=1}^{m} (g(z) - 1)g(z)) \\\\\n",
    "= (x^Tz)^2 (-\\frac{1}{m} \\sum_{k=1}^{m} (g(z) - 1)g(z)) \\\\\n",
    "\\end{align*}"
   ]
  },
  {
   "cell_type": "markdown",
   "metadata": {},
   "source": [
    "since, $ (g(z) - 1)g(z) ∈ [0, 1] $ and $ (x^{T}z)^{2} >= 0 $, $ H $ is positive semidefinite"
   ]
  },
  {
   "cell_type": "code",
   "execution_count": 1,
   "metadata": {},
   "outputs": [],
   "source": [
    "import pandas as pd\n",
    "import numpy as np\n",
    "import matplotlib.pyplot as plt\n",
    "\n",
    "%matplotlib inline"
   ]
  },
  {
   "cell_type": "code",
   "execution_count": 4,
   "metadata": {},
   "outputs": [
    {
     "data": {
      "text/plain": [
       "<matplotlib.axes._subplots.AxesSubplot at 0x1210f65c0>"
      ]
     },
     "execution_count": 4,
     "metadata": {},
     "output_type": "execute_result"
    },
    {
     "data": {
      "image/png": "[encoded data removed]",
      "text/plain": [
       "<Figure size 432x288 with 1 Axes>"
      ]
     },
     "metadata": {
      "needs_background": "light"
     },
     "output_type": "display_data"
    }
   ],
   "source": [
    "#Loading and Plotting Data:\n",
    "x_df = pd.read_csv('data/logistic_x.txt',  sep='\\ +', header=None, engine='python')\n",
    "y_df = pd.read_csv('data/logistic_y.txt', sep='\\ +', header=None, engine='python')\n",
    "y_df = y_df.astype(int)\n",
    "\n",
    "x_df['label'] = y_df[0].values\n",
    "\n",
    "ax = plt.axes()\n",
    "\n",
    "x_df.query('label == -1').plot.scatter(x=0, y=1, ax=ax, color='blue')\n",
    "x_df.query('label == 1').plot.scatter(x=0, y=1, ax=ax, color='red')"
   ]
  },
  {
   "cell_type": "code",
   "execution_count": 5,
   "metadata": {},
   "outputs": [],
   "source": [
    "x = x_df[[0, 1]].values\n",
    "x = np.hstack([np.ones((x.shape[0], 1)), x])\n",
    "y = x_df['label'].values"
   ]
  },
  {
   "cell_type": "code",
   "execution_count": 33,
   "metadata": {},
   "outputs": [],
   "source": [
    "def sigmoid(z):\n",
    "    return 1 / (1 + np.exp(-z) )\n",
    "\n",
    "def gradient_l(theta, x, y):\n",
    "    z =  y * x.dot(theta)\n",
    "    nabla = np.mean((sigmoid(z) - 1) * y * x.T, axis=1)\n",
    "    return nabla\n",
    "\n",
    "def hessian_l(theta, x, y):\n",
    "    hess = np.zeros((x.shape[1], x.shape[1]))\n",
    "    z =  y * x.dot(theta)\n",
    "    for i in range(hess.shape[0]):\n",
    "        for j in range(hess.shape[0]):\n",
    "            if i <= j:\n",
    "                hess[i][j] = np.mean(sigmoid(z) * (1 - sigmoid(z)) * x[:,i] * x[:,j])             \n",
    "                if i != j:\n",
    "                    hess[j][i] = hess[i][j]\n",
    "\n",
    "    return hess    "
   ]
  },
  {
   "cell_type": "code",
   "execution_count": 37,
   "metadata": {},
   "outputs": [
    {
     "name": "stdout",
     "output_type": "stream",
     "text": [
      "Converaged on 7 iterations\n"
     ]
    }
   ],
   "source": [
    "def perform_newton(x, y, eps):\n",
    "    theta = np.zeros(x.shape[1])\n",
    "    delta = 1\n",
    "    thetas = []\n",
    "    n_iter = 0\n",
    "    while delta > eps:\n",
    "        prev_theta = theta.copy()\n",
    "        hess = hessian_l(theta, x, y)\n",
    "        nabla = gradient_l(theta, x, y)\n",
    "        theta -= np.linalg.inv(hess).dot(nabla)\n",
    "        delta = np.linalg.norm(theta-prev_theta, ord=1)\n",
    "        thetas.append(theta)\n",
    "        n_iter += 1\n",
    "        \n",
    "    return (theta, thetas, n_iter)\n",
    "        \n",
    "newton = perform_newton(x, y, 1e-6)\n",
    "n_iter = newton[2]\n",
    "theta = newton[0]\n",
    "print(\"Converaged on {0} iterations\".format(n_iter))"
   ]
  },
  {
   "cell_type": "code",
   "execution_count": 38,
   "metadata": {},
   "outputs": [
    {
     "data": {
      "text/plain": [
       "[<matplotlib.lines.Line2D at 0x121c69ef0>]"
      ]
     },
     "execution_count": 38,
     "metadata": {},
     "output_type": "execute_result"
    },
    {
     "data": {
      "image/png": "[encoded data removed]",
      "text/plain": [
       "<Figure size 432x288 with 1 Axes>"
      ]
     },
     "metadata": {
      "needs_background": "light"
     },
     "output_type": "display_data"
    }
   ],
   "source": [
    "ax = plt.axes()\n",
    "\n",
    "x_df.query('label == -1').plot.scatter(x=0, y=1, ax=ax, color='blue')\n",
    "x_df.query('label == 1').plot.scatter(x=0, y=1, ax=ax, color='red')\n",
    "\n",
    "\n",
    "x_axis_vals = np.array([np.min(x[:,1]), np.max(x[:,1])])\n",
    "y_axis_vals = (theta[0] + theta[1] * x_axis_vals) / (- theta[2])\n",
    "plt.plot(x_axis_vals, y_axis_vals, lw=0.5)\n"
   ]
  },
  {
   "cell_type": "code",
   "execution_count": null,
   "metadata": {},
   "outputs": [],
   "source": []
  },
  {
   "cell_type": "code",
   "execution_count": null,
   "metadata": {},
   "outputs": [],
   "source": []
  }
 ],
 "metadata": {
  "kernelspec": {
   "display_name": "Python 3",
   "language": "python",
   "name": "python3"
  },
  "language_info": {
   "codemirror_mode": {
    "name": "ipython",
    "version": 3
   },
   "file_extension": ".py",
   "mimetype": "text/x-python",
   "name": "python",
   "nbconvert_exporter": "python",
   "pygments_lexer": "ipython3",
   "version": "3.7.1"
  }
 },
 "nbformat": 4,
 "nbformat_minor": 2
}
